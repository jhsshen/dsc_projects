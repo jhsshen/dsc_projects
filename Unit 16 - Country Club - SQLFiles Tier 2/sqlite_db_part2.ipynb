{
 "cells": [
  {
   "attachments": {},
   "cell_type": "markdown",
   "metadata": {},
   "source": [
    "## PART 2 of the country club SQLite database project."
   ]
  },
  {
   "attachments": {},
   "cell_type": "markdown",
   "metadata": {},
   "source": [
    "Database file `sqlite_db_pythonsqlite.db` was extracted from the Tier 2 archive and saved in the current working directory."
   ]
  },
  {
   "cell_type": "code",
   "execution_count": 1,
   "metadata": {},
   "outputs": [],
   "source": [
    "# Import modules.\n",
    "import os\n",
    "import sqlite3"
   ]
  },
  {
   "cell_type": "code",
   "execution_count": 2,
   "metadata": {},
   "outputs": [],
   "source": [
    "# Create a connection and query function.\n",
    "def connect_query(database, sql):\n",
    "    try:\n",
    "        connection = sqlite3.connect(database)\n",
    "        cursor = connection.cursor()\n",
    "        cursor.execute(sql)\n",
    "        result = cursor.fetchall()\n",
    "        for row in result:\n",
    "            print(row)\n",
    "    except sqlite3.Error as error:\n",
    "        print(error)\n",
    "    finally:\n",
    "        if connection:\n",
    "            connection.close()\n"
   ]
  },
  {
   "cell_type": "code",
   "execution_count": 3,
   "metadata": {},
   "outputs": [],
   "source": [
    "# Assign database path\n",
    "db = './sqlite_db_pythonsqlite.db'"
   ]
  },
  {
   "cell_type": "code",
   "execution_count": 4,
   "metadata": {},
   "outputs": [
    {
     "name": "stdout",
     "output_type": "stream",
     "text": [
      "('Pool Table', 270.0)\n",
      "('Snooker Table', 240.0)\n",
      "('Table Tennis', 180.0)\n"
     ]
    }
   ],
   "source": [
    "# Q10: Produce a list of facilities with a total revenue less than 1000.\n",
    "# The output of facility name and total revenue, sorted by revenue. Remember\n",
    "# that there's a different cost for guests and members!\n",
    "sql = '''SELECT name, ROUND(SUM(income), 2) AS revenue\n",
    "FROM (\n",
    "    SELECT f.facid, name, membercost, guestcost, bookid, memid, slots,\n",
    "        CASE WHEN b.memid > 0 THEN f.membercost * b.slots\n",
    "        ELSE f.guestcost * b.slots END\n",
    "        AS income\n",
    "    FROM Facilities AS f\n",
    "    INNER JOIN Bookings AS b\n",
    "    ON f.facid = b.facid\n",
    "    ORDER BY f.facid\n",
    "    ) AS temp\n",
    "GROUP BY name\n",
    "HAVING revenue < 1000\n",
    "ORDER BY revenue DESC;'''\n",
    "\n",
    "connect_query(db, sql)"
   ]
  },
  {
   "cell_type": "code",
   "execution_count": 5,
   "metadata": {},
   "outputs": [
    {
     "name": "stdout",
     "output_type": "stream",
     "text": [
      "('Bader, Florence', 'Stibbons, Ponder')\n",
      "('Baker, Anne', 'Stibbons, Ponder')\n",
      "('Baker, Timothy', 'Farrell, Jemima')\n",
      "('Boothe, Tim', 'Rownam, Tim')\n",
      "('Butters, Gerald', 'Smith, Darren')\n",
      "('Coplin, Joan', 'Baker, Timothy')\n",
      "('Crumpet, Erica', 'Smith, Tracy')\n",
      "('Dare, Nancy', 'Joplette, Janice')\n",
      "('Genting, Matthew', 'Butters, Gerald')\n",
      "('Hunt, John', 'Purview, Millicent')\n",
      "('Jones, David', 'Joplette, Janice')\n",
      "('Jones, Douglas', 'Jones, David')\n",
      "('Joplette, Janice', 'Smith, Darren')\n",
      "('Mackenzie, Anna', 'Smith, Darren')\n",
      "('Owen, Charles', 'Smith, Darren')\n",
      "('Pinker, David', 'Farrell, Jemima')\n",
      "('Purview, Millicent', 'Smith, Tracy')\n",
      "('Rumney, Henrietta', 'Genting, Matthew')\n",
      "('Sarwin, Ramnaresh', 'Bader, Florence')\n",
      "('Smith, Jack', 'Smith, Darren')\n",
      "('Stibbons, Ponder', 'Tracy, Burton')\n",
      "('Worthington-Smyth, Henry', 'Smith, Tracy')\n"
     ]
    }
   ],
   "source": [
    "# Q11: Produce a report of members and who recommended them in alphabetic surname,firstname order\n",
    "sql = '''SELECT (m.surname || ', ' || m.firstname) AS member_name,\n",
    "    (r.surname || ', ' || r.firstname) AS recommender_name\n",
    "FROM Members AS m\n",
    "INNER JOIN Members AS r\n",
    "ON m.recommendedby = r.memid\n",
    "ORDER BY member_name;'''\n",
    "\n",
    "connect_query(db, sql)"
   ]
  },
  {
   "cell_type": "code",
   "execution_count": 6,
   "metadata": {},
   "outputs": [
    {
     "name": "stdout",
     "output_type": "stream",
     "text": [
      "(0, 'Tennis Court 1', 957)\n",
      "(1, 'Tennis Court 2', 882)\n",
      "(2, 'Badminton Court', 1086)\n",
      "(3, 'Table Tennis', 794)\n",
      "(4, 'Massage Room 1', 884)\n",
      "(5, 'Massage Room 2', 54)\n",
      "(6, 'Squash Court', 418)\n",
      "(7, 'Snooker Table', 860)\n",
      "(8, 'Pool Table', 856)\n"
     ]
    }
   ],
   "source": [
    "# Q12: Find the facilities with their usage by member, but not guests.\n",
    "sql = '''SELECT DISTINCT f.facid, f.name, SUM(b.slots) AS slots_used_by_members_not_guests\n",
    "FROM Facilities AS f\n",
    "INNER JOIN Bookings AS b\n",
    "ON f.facid = b.facid\n",
    "WHERE b.memid <> 0\n",
    "GROUP BY f.facid, f.name\n",
    "ORDER BY f.facid;'''\n",
    "\n",
    "connect_query(db, sql)"
   ]
  },
  {
   "cell_type": "code",
   "execution_count": 7,
   "metadata": {},
   "outputs": [
    {
     "name": "stdout",
     "output_type": "stream",
     "text": [
      "(0, 'Tennis Court 1', '2012-07', 201)\n",
      "(0, 'Tennis Court 1', '2012-08', 339)\n",
      "(0, 'Tennis Court 1', '2012-09', 417)\n",
      "(1, 'Tennis Court 2', '2012-07', 123)\n",
      "(1, 'Tennis Court 2', '2012-08', 345)\n",
      "(1, 'Tennis Court 2', '2012-09', 414)\n",
      "(2, 'Badminton Court', '2012-07', 165)\n",
      "(2, 'Badminton Court', '2012-08', 414)\n",
      "(2, 'Badminton Court', '2012-09', 507)\n",
      "(3, 'Table Tennis', '2012-07', 98)\n",
      "(3, 'Table Tennis', '2012-08', 296)\n",
      "(3, 'Table Tennis', '2012-09', 400)\n",
      "(4, 'Massage Room 1', '2012-07', 166)\n",
      "(4, 'Massage Room 1', '2012-08', 316)\n",
      "(4, 'Massage Room 1', '2012-09', 402)\n",
      "(5, 'Massage Room 2', '2012-07', 8)\n",
      "(5, 'Massage Room 2', '2012-08', 18)\n",
      "(5, 'Massage Room 2', '2012-09', 28)\n",
      "(6, 'Squash Court', '2012-07', 50)\n",
      "(6, 'Squash Court', '2012-08', 184)\n",
      "(6, 'Squash Court', '2012-09', 184)\n",
      "(7, 'Snooker Table', '2012-07', 140)\n",
      "(7, 'Snooker Table', '2012-08', 316)\n",
      "(7, 'Snooker Table', '2012-09', 404)\n",
      "(8, 'Pool Table', '2012-07', 110)\n",
      "(8, 'Pool Table', '2012-08', 303)\n",
      "(8, 'Pool Table', '2012-09', 443)\n"
     ]
    }
   ],
   "source": [
    "# Q13: Find the facilities usage by month, but not guests.\n",
    "sql = '''SELECT f.facid, f.name, strftime('%Y-%m', b.starttime) AS month, SUM(b.slots) AS slots_booked_by_members_not_guests\n",
    "FROM Facilities AS f\n",
    "INNER JOIN Bookings AS b\n",
    "ON f.facid = b.facid\n",
    "WHERE b.memid <> 0\n",
    "GROUP BY f.facid, f.name, month\n",
    "ORDER BY f.facid, month;'''\n",
    "\n",
    "connect_query(db, sql)\n"
   ]
  }
 ],
 "metadata": {
  "kernelspec": {
   "display_name": "datascience",
   "language": "python",
   "name": "python3"
  },
  "language_info": {
   "codemirror_mode": {
    "name": "ipython",
    "version": 3
   },
   "file_extension": ".py",
   "mimetype": "text/x-python",
   "name": "python",
   "nbconvert_exporter": "python",
   "pygments_lexer": "ipython3",
   "version": "3.10.9"
  },
  "orig_nbformat": 4,
  "vscode": {
   "interpreter": {
    "hash": "bb875a90d9a5257d20c84590c2d31ff57ae3fa6ae0ed4d02184aaad560e42eb0"
   }
  }
 },
 "nbformat": 4,
 "nbformat_minor": 2
}
